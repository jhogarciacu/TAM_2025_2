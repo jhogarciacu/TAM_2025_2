{
  "nbformat": 4,
  "nbformat_minor": 0,
  "metadata": {
    "colab": {
      "private_outputs": true,
      "provenance": [],
      "include_colab_link": true
    },
    "kernelspec": {
      "name": "python3",
      "display_name": "Python 3"
    },
    "language_info": {
      "name": "python"
    }
  },
  "cells": [
    {
      "cell_type": "markdown",
      "metadata": {
        "id": "view-in-github",
        "colab_type": "text"
      },
      "source": [
        "<a href=\"https://colab.research.google.com/github/jhogarciacu/TAM_2025_2/blob/main/tanjiro_4-7_(Reducci%C3%B3n_de_caracteristicas_y_clusterin).ipynb\" target=\"_parent\"><img src=\"https://colab.research.google.com/assets/colab-badge.svg\" alt=\"Open In Colab\"/></a>"
      ]
    },
    {
      "cell_type": "code",
      "execution_count": null,
      "metadata": {
        "id": "5AoicVd24_eM"
      },
      "outputs": [],
      "source": [
        "#https://drive.google.com/file/d/1KENM6BW5UjRoSjnWmuBP_MS_NrC0cefP/view?usp=sharing\n",
        "\n",
        "FILEID = \"1KENM6BW5UjRoSjnWmuBP_MS_NrC0cefP\"\n",
        "!wget --load-cookies /tmp/cookies.txt \"https://docs.google.com/uc?export=download&confirm=$(wget --quiet --save-cookies /tmp/cookies.txt --keep-session-cookies --no-check-certificate 'https://docs.google.com/uc?export=download&id='$FILEID -O- | sed -rn 's/.*confirm=([0-9A-Za-z_]+).*/\\1\\n/p')&id=\"$FILEID -O tanjiro.jpeg && rm -rf /tmp/cookies.txt"
      ]
    },
    {
      "cell_type": "code",
      "source": [
        "!pip install umap-learn"
      ],
      "metadata": {
        "id": "hllmM_466FBx"
      },
      "execution_count": null,
      "outputs": []
    },
    {
      "cell_type": "code",
      "source": [
        "from sklearn.cluster import KMeans, MiniBatchKMeans, DBSCAN, SpectralClustering\n",
        "from sklearn.metrics import silhouette_score\n",
        "import pandas as pd\n",
        "import os\n",
        "import matplotlib.pyplot as plt\n",
        "from matplotlib.image import imread\n",
        "import numpy as np\n",
        "from umap import UMAP\n",
        "from sklearn.preprocessing import MinMaxScaler\n",
        "from sklearn.decomposition import PCA\n",
        "from sklearn.cluster import KMeans, MiniBatchKMeans, DBSCAN,SpectralClustering"
      ],
      "metadata": {
        "id": "GqSfofsP5TuL"
      },
      "execution_count": null,
      "outputs": []
    },
    {
      "cell_type": "code",
      "source": [
        "image = imread(os.path.join(\"tanjiro.jpeg\"))\n",
        "image = image[50:175,50:175,:]\n",
        "plt.imshow(image)\n",
        "image.shape"
      ],
      "metadata": {
        "id": "1dP37TE-5heD"
      },
      "execution_count": null,
      "outputs": []
    },
    {
      "cell_type": "code",
      "source": [
        "X = image.reshape(-1, 3)\n",
        "r,c,ch = image.shape\n",
        "print(r,c,ch)"
      ],
      "metadata": {
        "id": "Ff7XLGI77vha"
      },
      "execution_count": null,
      "outputs": []
    },
    {
      "cell_type": "code",
      "source": [
        "vr = np.linspace(0,r,r,endpoint=False)\n",
        "vc = np.linspace(0,c,c,endpoint=False)\n",
        "Xc = np.kron(np.ones((r,1)),vc.reshape(-1,1))\n",
        "Xr = np.kron(vr.reshape(-1,1),np.ones((1,c)))\n",
        "Xc = Xc.reshape(-1)\n",
        "Xr = Xr.reshape(-1)\n",
        "X = np.c_[X,Xc,Xr]\n",
        "X.shape"
      ],
      "metadata": {
        "id": "OsvQHlVKAJTm"
      },
      "execution_count": null,
      "outputs": []
    },
    {
      "cell_type": "code",
      "source": [
        "plt.pcolormesh(X)\n",
        "plt.colorbar()\n",
        "plt.show()"
      ],
      "metadata": {
        "id": "Hg8T3CFh6aZW"
      },
      "execution_count": null,
      "outputs": []
    },
    {
      "cell_type": "code",
      "source": [
        "# Escalamos valores para que esten en las ismas dimensiones\n",
        "scaler = MinMaxScaler()\n",
        "X_ = scaler.fit_transform(X)"
      ],
      "metadata": {
        "id": "ykTJG6R06OVj"
      },
      "execution_count": null,
      "outputs": []
    },
    {
      "cell_type": "markdown",
      "source": [
        "# Reduccion de dimensiones"
      ],
      "metadata": {
        "id": "iw0RgDSK6U96"
      }
    },
    {
      "cell_type": "code",
      "source": [
        "# PCA\n",
        "X_pca = PCA(n_components=2).fit_transform(X_)\n",
        "plt.scatter(X_pca[:,0], X_pca[:,1], c=X[:,2])\n",
        "plt.show()"
      ],
      "metadata": {
        "id": "u-oJsOc975YB"
      },
      "execution_count": null,
      "outputs": []
    },
    {
      "cell_type": "code",
      "source": [
        "# UMAP\n",
        "X_umap = UMAP(n_components=2,n_neighbors = 30,#round(np.sqrt(X_.shape[0])),\n",
        "          min_dist =0.9).fit_transform(X_)\n"
      ],
      "metadata": {
        "id": "0INi8FYYQgWP"
      },
      "execution_count": null,
      "outputs": []
    },
    {
      "cell_type": "markdown",
      "source": [
        "# **Tipos de clustering aplicados**"
      ],
      "metadata": {
        "id": "8Uhx11Lv09wZ"
      }
    },
    {
      "cell_type": "markdown",
      "source": [
        "### K-means"
      ],
      "metadata": {
        "id": "p0OxE5aEzsS2"
      }
    },
    {
      "cell_type": "code",
      "source": [
        "kmeans = KMeans(n_clusters=4,n_init='auto').fit(X_)\n",
        "kmeans.labels_"
      ],
      "metadata": {
        "id": "CGFSOlzwROWh"
      },
      "execution_count": null,
      "outputs": []
    },
    {
      "cell_type": "markdown",
      "source": [
        "### K-means++"
      ],
      "metadata": {
        "id": "fTJTUqlXz0It"
      }
    },
    {
      "cell_type": "code",
      "source": [
        "kmeans = KMeans(n_clusters=4, init='k-means++', n_init='auto').fit(X_)\n",
        "labels_kmeans = kmeans.labels_"
      ],
      "metadata": {
        "id": "2XmiMMNiz3Ju"
      },
      "execution_count": null,
      "outputs": []
    },
    {
      "cell_type": "markdown",
      "source": [
        "### Accelerated K-Means (Elkan)"
      ],
      "metadata": {
        "id": "2NKmI_byz8Lc"
      }
    },
    {
      "cell_type": "code",
      "source": [
        "kmeans_elkan = KMeans(n_clusters=4, algorithm='elkan', n_init='auto').fit(X_)\n",
        "labels_elkan = kmeans_elkan.labels_"
      ],
      "metadata": {
        "id": "GwU71ok9z_gm"
      },
      "execution_count": null,
      "outputs": []
    },
    {
      "cell_type": "markdown",
      "source": [
        "### MiniBatch K-Means"
      ],
      "metadata": {
        "id": "1Uc-JeDq0QVT"
      }
    },
    {
      "cell_type": "code",
      "source": [
        "minibatch = MiniBatchKMeans(n_clusters=4, batch_size=100).fit(X_)\n",
        "labels_minibatch = minibatch.labels_"
      ],
      "metadata": {
        "id": "cQMsD51Sz-T0"
      },
      "execution_count": null,
      "outputs": []
    },
    {
      "cell_type": "markdown",
      "source": [
        "### DBSCAN"
      ],
      "metadata": {
        "id": "vMRcpD_e0lr7"
      }
    },
    {
      "cell_type": "code",
      "source": [
        "dbscan = DBSCAN(eps=0.5, min_samples=5).fit(X_)\n",
        "labels_dbscan = dbscan.labels_"
      ],
      "metadata": {
        "id": "6CLxZcBR0nRi"
      },
      "execution_count": null,
      "outputs": []
    },
    {
      "cell_type": "markdown",
      "source": [
        "### Spectral Clustering"
      ],
      "metadata": {
        "id": "LTdcTUYp02Pa"
      }
    },
    {
      "cell_type": "code",
      "source": [
        "spectral = SpectralClustering(n_clusters=4, affinity='nearest_neighbors').fit(X_)\n",
        "labels_spectral = spectral.labels_"
      ],
      "metadata": {
        "id": "P1VWZyfv04ri"
      },
      "execution_count": null,
      "outputs": []
    },
    {
      "cell_type": "code",
      "source": [
        "def plot_clusters(X_, labels, title):\n",
        "    plt.figure(figsize=(6, 5))\n",
        "    plt.scatter(X_[:, 0], X_[:, 1], c=labels, cmap='tab10', s=20)\n",
        "    plt.title(title)\n",
        "    plt.xlabel('UMAP 1')\n",
        "    plt.ylabel('UMAP 2')\n",
        "    plt.show()\n",
        "\n",
        "plot_clusters(X_, kmeans.labels_, \"K-Means\")\n",
        "plot_clusters(X_, labels_kmeans, \"K-Means++\")\n",
        "plot_clusters(X_, labels_elkan, \"Accelerated K-Means (Elkan)\")\n",
        "plot_clusters(X_, labels_minibatch, \"MiniBatch K-Means\")\n",
        "plot_clusters(X_, labels_dbscan, \"DBSCAN\")\n",
        "plot_clusters(X_, labels_spectral, \"Spectral Clustering\")\n"
      ],
      "metadata": {
        "id": "iCY2cHaH1TQW"
      },
      "execution_count": null,
      "outputs": []
    },
    {
      "cell_type": "markdown",
      "source": [
        "# Visualizacion con imagen procesada\n"
      ],
      "metadata": {
        "id": "T3CWI4jt4w0-"
      }
    },
    {
      "cell_type": "code",
      "source": [
        "def plot_clusters_image(labels, title):\n",
        "  labels_ = labels\n",
        "  Ilabels = labels_.reshape(r,c)\n",
        "  plt.imshow(Ilabels)\n",
        "  plt.colorbar()\n",
        "  plt.title(title)\n",
        "  plt.xlabel('UMAP 1')\n",
        "  plt.ylabel('UMAP 2')\n",
        "  plt.show()\n",
        "\n",
        "\n",
        "plot_clusters_image(kmeans.labels_, \"K-Means\")\n",
        "plot_clusters_image(labels_kmeans, \"K-Means++\")\n",
        "plot_clusters_image(labels_elkan, \"Accelerated K-Means (Elkan)\")\n",
        "plot_clusters_image(labels_minibatch, \"MiniBatch K-Means\")\n",
        "plot_clusters_image(labels_dbscan, \"DBSCAN\")\n",
        "plot_clusters_image(labels_spectral, \"Spectral Clustering\")"
      ],
      "metadata": {
        "id": "ujFh6SSu32IZ"
      },
      "execution_count": null,
      "outputs": []
    },
    {
      "cell_type": "code",
      "source": [
        "D_ = kmeans.transform(X_)\n",
        "D_.shape\n",
        "ind_ = np.argmin(D_,axis=0)"
      ],
      "metadata": {
        "id": "rOq0iPrBUPNI"
      },
      "execution_count": null,
      "outputs": []
    },
    {
      "cell_type": "code",
      "source": [
        "D_.shape\n",
        "ind_"
      ],
      "metadata": {
        "id": "HDCuoFzrEwBV"
      },
      "execution_count": null,
      "outputs": []
    },
    {
      "cell_type": "code",
      "source": [
        "centroids_ = X[ind_,:3]\n",
        "centroids_"
      ],
      "metadata": {
        "id": "XHca96OKE3vg"
      },
      "execution_count": null,
      "outputs": []
    },
    {
      "cell_type": "code",
      "source": [
        "segmented_img = centroids_[kmeans.labels_]\n",
        "segmented_img = segmented_img.reshape(image.shape)\n",
        "plt.imshow(segmented_img/255.)\n",
        "\n",
        "plt.show()"
      ],
      "metadata": {
        "id": "o2ABixLtSzVr"
      },
      "execution_count": null,
      "outputs": []
    },
    {
      "cell_type": "code",
      "source": [
        "centroids_[kmeans.labels_]"
      ],
      "metadata": {
        "id": "fOf25JgqGc-d"
      },
      "execution_count": null,
      "outputs": []
    },
    {
      "cell_type": "code",
      "source": [
        "kmeans.labels_"
      ],
      "metadata": {
        "id": "vpMBqvM6UA0c"
      },
      "execution_count": null,
      "outputs": []
    },
    {
      "cell_type": "code",
      "source": [
        "def evaluar_clustering(X_, modelos, k_values=None, random_state=42):\n",
        "\n",
        "    resultados_globales = []\n",
        "    mejor_silhouette = -1\n",
        "    mejor_modelo = None\n",
        "    mejor_labels = None\n",
        "    mejor_nombre = None\n",
        "    mejor_k = None\n",
        "\n",
        "    for nombre, constructor in modelos.items():\n",
        "        print(f\"\\n🔹 Evaluando modelo: {nombre}\")\n",
        "        resultados = []\n",
        "\n",
        "        # Si el modelo usa k (tiene parámetro n_clusters)\n",
        "        if k_values:\n",
        "            for k in k_values:\n",
        "                modelo = constructor(k)\n",
        "                labels = modelo.fit_predict(X_)\n",
        "\n",
        "                if hasattr(modelo, 'inertia_'):\n",
        "                    inertia = modelo.inertia_\n",
        "                else:\n",
        "                    inertia = np.nan\n",
        "\n",
        "                if len(set(labels)) > 1:\n",
        "                    silhouette = silhouette_score(X_, labels)\n",
        "                else:\n",
        "                    silhouette = np.nan\n",
        "\n",
        "                resultados.append({'Modelo': nombre, 'k': k, 'Inercia': inertia, 'Silhouette': silhouette})\n",
        "\n",
        "                # Guardar el mejor modelo global\n",
        "                if silhouette > mejor_silhouette:\n",
        "                    mejor_silhouette = silhouette\n",
        "                    mejor_modelo = modelo\n",
        "                    mejor_labels = labels\n",
        "                    mejor_nombre = nombre\n",
        "                    mejor_k = k\n",
        "\n",
        "        else:  # Para modelos sin parámetro de k (como DBSCAN)\n",
        "            modelo = constructor(None)\n",
        "            labels = modelo.fit_predict(X_)\n",
        "            inertia = np.nan\n",
        "            silhouette = silhouette_score(X_, labels) if len(set(labels)) > 1 else np.nan\n",
        "            resultados.append({'Modelo': nombre, 'k': np.nan, 'Inercia': inertia, 'Silhouette': silhouette})\n",
        "\n",
        "            if silhouette > mejor_silhouette:\n",
        "                mejor_silhouette = silhouette\n",
        "                mejor_modelo = modelo\n",
        "                mejor_labels = labels\n",
        "                mejor_nombre = nombre\n",
        "                mejor_k = None\n",
        "\n",
        "        df_modelo = pd.DataFrame(resultados)\n",
        "        resultados_globales.append(df_modelo)\n",
        "        print(df_modelo)\n",
        "\n",
        "    # Combinar todos los resultados\n",
        "    df_resultados = pd.concat(resultados_globales, ignore_index=True)\n",
        "\n",
        "    # Graficar comparación de Silhouette entre modelos\n",
        "    plt.figure(figsize=(8, 4))\n",
        "    for nombre in df_resultados['Modelo'].unique():\n",
        "        subset = df_resultados[df_resultados['Modelo'] == nombre]\n",
        "        plt.plot(subset['k'], subset['Silhouette'], 'o-', label=nombre)\n",
        "    plt.xlabel('Número de Clusters (k)')\n",
        "    plt.ylabel('Coeficiente de Silueta')\n",
        "    plt.title('Comparación de Silhouette entre Modelos')\n",
        "    plt.legend()\n",
        "    plt.show()\n",
        "\n",
        "    # Graficar el mejor resultado encontrado\n",
        "    plt.figure(figsize=(6, 5))\n",
        "    plt.scatter(X_[:, 0], X_[:, 1], c=mejor_labels, cmap='tab10', s=20)\n",
        "    titulo = f\"🏆 Mejor modelo: {mejor_nombre}\"\n",
        "    if mejor_k:\n",
        "        titulo += f\" (k={mejor_k})\"\n",
        "    titulo += f\"\\nSilhouette={mejor_silhouette:.3f}\"\n",
        "    plt.title(titulo)\n",
        "    plt.xlabel('UMAP 1')\n",
        "    plt.ylabel('UMAP 2')\n",
        "    plt.show()\n",
        "\n",
        "    return mejor_modelo, mejor_nombre, mejor_k, df_resultados\n"
      ],
      "metadata": {
        "id": "6q3ymKpNGhEj"
      },
      "execution_count": null,
      "outputs": []
    },
    {
      "cell_type": "code",
      "source": [
        "modelos = {\n",
        "    \"K-Means++\": lambda k: KMeans(n_clusters=k, init='k-means++', random_state=42),\n",
        "    \"MiniBatch K-Means\": lambda k: MiniBatchKMeans(n_clusters=k, random_state=42),\n",
        "    \"Spectral Clustering\": lambda k: SpectralClustering(n_clusters=k, random_state=42),\n",
        "    \"DBSCAN\": lambda k: DBSCAN(eps=0.3, min_samples=5)\n",
        "}\n",
        "\n",
        "# Buscamos mejor clustering sin reducción\n",
        "mejor_modelo, mejor_nombre, mejor_k, resultados = evaluar_clustering(X_, modelos, k_values=[3, 5, 7, 9])\n"
      ],
      "metadata": {
        "id": "yUfEP7Mn2YUS"
      },
      "execution_count": null,
      "outputs": []
    },
    {
      "cell_type": "code",
      "source": [
        "# Buscamos mejor clustering con PCA\n",
        "mejor_modelo, mejor_nombre, mejor_k, resultados = evaluar_clustering(X_pca, modelos, k_values=[3, 5, 7, 9])\n"
      ],
      "metadata": {
        "id": "uUvwgdPP2Zq2"
      },
      "execution_count": null,
      "outputs": []
    },
    {
      "cell_type": "code",
      "source": [
        "# Buscamos mejor clustering con UMAP\n",
        "mejor_modelo, mejor_nombre, mejor_k, resultados = evaluar_clustering(X_umap, modelos, k_values=[3, 5, 7, 9])\n"
      ],
      "metadata": {
        "id": "YVHwOivuCsHI"
      },
      "execution_count": null,
      "outputs": []
    }
  ]
}